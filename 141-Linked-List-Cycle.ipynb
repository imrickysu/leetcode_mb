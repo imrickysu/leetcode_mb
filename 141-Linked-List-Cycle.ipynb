{
 "cells": [
  {
   "cell_type": "markdown",
   "metadata": {},
   "source": [
    "# Leetcode 141: Linked List Cycle\n",
    "\n",
    "## Description\n",
    "\n",
    "https://leetcode.com/problems/linked-list-cycle/\n",
    "\n",
    "Given a linked list, determine if it has a cycle in it.\n",
    "\n",
    "To represent a cycle in the given linked list, we use an integer pos which represents the position (0-indexed) in the linked list where tail connects to. If pos is -1, then there is no cycle in the linked list.\n",
    "\n",
    "## Examples\n",
    "\n",
    "Example 1:\n",
    "\n",
    "Input: head = [3,2,0,-4], pos = 1\n",
    "Output: true\n",
    "Explanation: There is a cycle in the linked list, where tail connects to the second node.\n",
    "\n",
    "Example 2:\n",
    "\n",
    "Input: head = [1,2], pos = 0\n",
    "Output: true\n",
    "Explanation: There is a cycle in the linked list, where tail connects to the first node.\n",
    "\n",
    "Example 3:\n",
    "\n",
    "Input: head = [1], pos = -1\n",
    "Output: false\n",
    "Explanation: There is no cycle in the linked list.\n",
    "\n"
   ]
  },
  {
   "cell_type": "code",
   "execution_count": null,
   "metadata": {},
   "outputs": [],
   "source": [
    "# Definition for singly-linked list.\n",
    "class ListNode(object):\n",
    "    def __init__(self, x):\n",
    "        self.val = x\n",
    "        self.next = None\n",
    "\n",
    "\n",
    "        "
   ]
  },
  {
   "cell_type": "code",
   "execution_count": null,
   "metadata": {},
   "outputs": [],
   "source": [
    "class Solution(object):\n",
    "    def hasCycle(self, head):\n",
    "        \"\"\"\n",
    "        :type head: ListNode\n",
    "        :rtype: bool\n",
    "        \"\"\"\n",
    "        fast = slow = head\n",
    "        while fast != None and fast.next != None and fast.next.next != None:\n",
    "            fast = fast.next.next\n",
    "            slow = slow.next\n",
    "            if fast == slow:\n",
    "                return True\n",
    "        return False"
   ]
  },
  {
   "cell_type": "code",
   "execution_count": null,
   "metadata": {},
   "outputs": [],
   "source": [
    "# Test\n",
    "import unittest\n",
    "\n",
    "class TestCycle(unittest.TestCase):\n",
    "    def test_withcycle(self):\n",
    "        # a -> b -> c -> d -> b\n",
    "        a=ListNode(1)\n",
    "        b=ListNode(2)\n",
    "        a.next=b\n",
    "        c=ListNode(3)\n",
    "        b.next=c\n",
    "        d=ListNode(4)\n",
    "        c.next=d\n",
    "        d.next=b\n",
    "        if d.next:\n",
    "            print(d.next.val)\n",
    "\n",
    "        s = Solution()\n",
    "        result = s.hasCycle(a)\n",
    "        \n",
    "        self.assertTrue(result)\n",
    "        \n",
    "    def test_nocycle(self):\n",
    "        # a -> b -> c -> d\n",
    "        a=ListNode(1)\n",
    "        b=ListNode(2)\n",
    "        a.next=b\n",
    "        c=ListNode(3)\n",
    "        b.next=c\n",
    "        d=ListNode(4)\n",
    "        c.next=d\n",
    "        #d.next=b\n",
    "        if d.next:\n",
    "            print(d.next.val)\n",
    "\n",
    "        s = Solution()\n",
    "        result = s.hasCycle(a)\n",
    "        \n",
    "        self.assertFalse(result)\n",
    "\n",
    "        \n",
    "if __name__ == '__main__':\n",
    "    unittest.main(argv=['first-arg-is-ignored'], exit=False)"
   ]
  },
  {
   "cell_type": "markdown",
   "metadata": {},
   "source": [
    "# References\n",
    "\n",
    "Unit Test function list: https://docs.python.org/3/library/unittest.html#unittest.TestCase.debug\n",
    "\n",
    "Use unittest in jupyter notebook: https://medium.com/@vladbezden/using-python-unittest-in-ipython-or-jupyter-732448724e31"
   ]
  },
  {
   "cell_type": "code",
   "execution_count": null,
   "metadata": {},
   "outputs": [],
   "source": []
  }
 ],
 "metadata": {
  "kernelspec": {
   "display_name": "Python 3",
   "language": "python",
   "name": "python3"
  },
  "language_info": {
   "codemirror_mode": {
    "name": "ipython",
    "version": 3
   },
   "file_extension": ".py",
   "mimetype": "text/x-python",
   "name": "python",
   "nbconvert_exporter": "python",
   "pygments_lexer": "ipython3",
   "version": "3.7.1"
  }
 },
 "nbformat": 4,
 "nbformat_minor": 2
}
